{
 "cells": [
  {
   "cell_type": "markdown",
   "metadata": {},
   "source": [
    "# Lecture 36\n",
    "\n",
    "## Introduction to Pandas"
   ]
  },
  {
   "cell_type": "markdown",
   "metadata": {},
   "source": [
    "\n",
    "Welcome to Lecture 36! This lecture is meant to introduce you to `Pandas`. Pandas is a powerful, flexible, and popular Python library primarily used for data manipulation and analysis. Built on top of the NumPy package, it offers data structures and operations for manipulating numerical tables and data."
   ]
  },
  {
   "cell_type": "markdown",
   "metadata": {},
   "source": [
    "To use the Pandas library, we first need to import it into our Python environment. It's common to import Pandas using the alias: `pd`:"
   ]
  },
  {
   "cell_type": "code",
   "execution_count": null,
   "metadata": {
    "vscode": {
     "languageId": "plaintext"
    }
   },
   "outputs": [],
   "source": [
    "#run this cell\n",
    "import pandas as pd"
   ]
  },
  {
   "cell_type": "markdown",
   "metadata": {},
   "source": [
    "## Data Structures in Pandas\n",
    "Pandas provides several robust data structures, with the two primary ones being the `DataFrame` and the `Series`. These structures are designed to handle a vast array of data types and are built with speed and flexibility in mind. "
   ]
  },
  {
   "cell_type": "markdown",
   "metadata": {},
   "source": [
    "### Series\n",
    "\n",
    "A `Series` is a one-dimensional array-like object that can hold data of any type (integers, strings, floating numbers, Python objects, etc.). Each element in a Series is indexed, starting from 0 by default. The index can also be explicitly defined, allowing for indexing using labels. \n",
    "\n",
    "\n",
    "#### 1. Creating a Series from a List\n",
    "The most straightforward method to create a Series in pandas is by using a list. This is accomplished through the [`pd.Series`](https://pandas.pydata.org/pandas-docs/stable/reference/api/pandas.Series.html) function. For instance, to create a Series with a default integer index that starts from 0, you can follow these steps:"
   ]
  },
  {
   "cell_type": "code",
   "execution_count": null,
   "metadata": {
    "vscode": {
     "languageId": "plaintext"
    }
   },
   "outputs": [],
   "source": [
    "import numpy as np\n",
    "s = pd.Series([1, 3, 5, np.nan, 6, 8])\n"
   ]
  },
  {
   "cell_type": "markdown",
   "metadata": {},
   "source": [
    "#### 2. Creating a Series with Custom Index\n",
    "\n",
    "You can specify an index to use when creating the Series. The index length must match the data length:"
   ]
  },
  {
   "cell_type": "code",
   "execution_count": null,
   "metadata": {
    "vscode": {
     "languageId": "plaintext"
    }
   },
   "outputs": [],
   "source": [
    "data = [1, 3, 5, 7, 9]\n",
    "index = ['a', 'b', 'c', 'd', 'e']\n",
    "series = pd.Series(data, index=index)\n",
    "print(series)"
   ]
  },
  {
   "cell_type": "markdown",
   "metadata": {},
   "source": [
    "We can reassign the index of a `Series` to a new index."
   ]
  },
  {
   "cell_type": "code",
   "execution_count": null,
   "metadata": {
    "vscode": {
     "languageId": "plaintext"
    }
   },
   "outputs": [],
   "source": [
    "series.index = [\"first\", \"second\", \"third\", \"fourth\",\"fifth\"]\n",
    "series.index"
   ]
  },
  {
   "cell_type": "markdown",
   "metadata": {},
   "source": [
    "#### 3. Creating a Series from a Dictionary\n",
    "When you use a dictionary to create a Series, the keys become the index labels, and the values become the corresponding series data:"
   ]
  },
  {
   "cell_type": "code",
   "execution_count": null,
   "metadata": {
    "vscode": {
     "languageId": "plaintext"
    }
   },
   "outputs": [],
   "source": [
    "data = {'a': 1, 'b': 2, 'c': 3}\n",
    "series = pd.Series(data)\n",
    "print(series)"
   ]
  },
  {
   "cell_type": "markdown",
   "metadata": {},
   "source": [
    "#### 4. Series from an ndarray\n",
    "If you have a NumPy array, you can easily turn it into a pandas Series by passing it as input:"
   ]
  },
  {
   "cell_type": "code",
   "execution_count": null,
   "metadata": {
    "vscode": {
     "languageId": "plaintext"
    }
   },
   "outputs": [],
   "source": [
    "import numpy as np\n",
    "data = np.random.randn(5)  # Creates a NumPy array of 5 random numbers\n",
    "series = pd.Series(data)\n",
    "print(series)"
   ]
  },
  {
   "cell_type": "markdown",
   "metadata": {},
   "source": [
    "#### Setting a Name\n",
    "You can also name a Series, which can be useful in the context of a larger DataFrame:"
   ]
  },
  {
   "cell_type": "code",
   "execution_count": null,
   "metadata": {
    "vscode": {
     "languageId": "plaintext"
    }
   },
   "outputs": [],
   "source": [
    "series = pd.Series([1, 2, 3], index=['a', 'b', 'c'], name='MySeries')\n",
    "print(series)\n"
   ]
  },
  {
   "cell_type": "markdown",
   "metadata": {},
   "source": [
    "#### Data Types\n",
    "A Series can hold any data type, and you can explicitly define the data type using the `dtype` argument:"
   ]
  },
  {
   "cell_type": "code",
   "execution_count": null,
   "metadata": {
    "vscode": {
     "languageId": "plaintext"
    }
   },
   "outputs": [],
   "source": [
    "series = pd.Series([1, 2, 3], dtype='float64')\n",
    "print(series)\n"
   ]
  },
  {
   "cell_type": "markdown",
   "metadata": {},
   "source": [
    "### Selection and Indexing in Series\n",
    "Indexing in pandas is quite powerful and can be performed in several ways:\n",
    "\n",
    "#### 1. Basic Indexing\n",
    "You can access elements in a Series similar to how you would access elements in a list or an array:"
   ]
  },
  {
   "cell_type": "code",
   "execution_count": null,
   "metadata": {
    "vscode": {
     "languageId": "plaintext"
    }
   },
   "outputs": [],
   "source": [
    "# Creating a simple Series\n",
    "s = pd.Series([1, 2, 3, 4, 5])\n",
    "print(s[0]) \n"
   ]
  },
  {
   "cell_type": "markdown",
   "metadata": {},
   "source": [
    "#### 2. Label-based Indexing\n",
    "If the Series has an explicit index (labels), you can use these labels to access elements:"
   ]
  },
  {
   "cell_type": "code",
   "execution_count": null,
   "metadata": {
    "vscode": {
     "languageId": "plaintext"
    }
   },
   "outputs": [],
   "source": [
    "s = pd.Series([1, 2, 3, 4, 5], index=['a', 'b', 'c', 'd', 'e'])\n",
    "print(s['a']) "
   ]
  },
  {
   "cell_type": "markdown",
   "metadata": {},
   "source": [
    "#### 3. Slicing\n",
    "You can slice a Series using both label and integer-based indexes:"
   ]
  },
  {
   "cell_type": "code",
   "execution_count": null,
   "metadata": {
    "vscode": {
     "languageId": "plaintext"
    }
   },
   "outputs": [],
   "source": [
    "# Integer-based slicing\n",
    "print(s[1:3])  # Output includes index 1 and 2, excludes 3\n",
    "\n",
    "# Label-based slicing\n",
    "print(s['a':'c'])  # Output includes both 'a' and 'c'\n"
   ]
  },
  {
   "cell_type": "markdown",
   "metadata": {},
   "source": [
    "Note that label-based slicing in pandas is inclusive, unlike typical Python slicing."
   ]
  },
  {
   "cell_type": "markdown",
   "metadata": {},
   "source": [
    "#### 4. Filtering\n",
    "Filtering involves selecting elements from a Series based on a condition, which often involves boolean indexing:"
   ]
  },
  {
   "cell_type": "code",
   "execution_count": null,
   "metadata": {
    "vscode": {
     "languageId": "plaintext"
    }
   },
   "outputs": [],
   "source": [
    "print(s[s > 2]) "
   ]
  },
  {
   "cell_type": "markdown",
   "metadata": {},
   "source": [
    "You can also use more complex conditions using logical operators:"
   ]
  },
  {
   "cell_type": "code",
   "execution_count": null,
   "metadata": {
    "vscode": {
     "languageId": "plaintext"
    }
   },
   "outputs": [],
   "source": [
    "# Output: Elements where the value of s is greater than 2 and less than 5\n",
    "print(s[(s > 2) & (s < 5)])  "
   ]
  },
  {
   "cell_type": "markdown",
   "metadata": {},
   "source": [
    "#### 5. Conditional Selection with where\n",
    "The where method in pandas allows you to conditionally select elements from a Series, with unmatched conditions being replaced by NaN or another specified value:"
   ]
  },
  {
   "cell_type": "code",
   "execution_count": null,
   "metadata": {
    "vscode": {
     "languageId": "plaintext"
    }
   },
   "outputs": [],
   "source": [
    "print(s.where(s > 3))  # Elements <= 3 are replaced by NaN"
   ]
  },
  {
   "cell_type": "markdown",
   "metadata": {},
   "source": [
    "### DataFrame\n",
    "\n",
    "A `DataFrame` is a two-dimensional, size-mutable, potentially heterogeneous tabular data structure with labeled axes (rows and columns). It is essentially a collection of Series objects that share the same index. This makes it similar to a spreadsheet. \n",
    "\n",
    "Dataframes are the pandas equivalent of a Numpy 2D ndarray, with a few key differences:\n",
    "* Axis values (i.e column and index names) can have string labels, not just numeric ones.\n",
    "* Dataframes can contain columns with multiple data types: including integer, float, and string.\n",
    "\n",
    "The equivalent to a 1D array is the pandas `series` object.\n",
    "\n",
    "DataFrame can be constructed from a wide array of sources such as lists, dicts, series, another DataFrame, and even files. For example:"
   ]
  },
  {
   "cell_type": "markdown",
   "metadata": {},
   "source": [
    "#### 1. Creating a DataFrame from Lists\n",
    "You can create a DataFrame from a list of lists, where each inner list represents a row in the DataFrame:"
   ]
  },
  {
   "cell_type": "code",
   "execution_count": null,
   "metadata": {
    "vscode": {
     "languageId": "plaintext"
    }
   },
   "outputs": [],
   "source": [
    "data = [\n",
    "    ['Tom', 28],\n",
    "    ['Nick', 30],\n",
    "    ['Julia', 25]\n",
    "]\n",
    "df = pd.DataFrame(data, columns=['Name', 'Age'])\n",
    "print(df)\n"
   ]
  },
  {
   "cell_type": "markdown",
   "metadata": {},
   "source": [
    "#### 2. Creating a DataFrame from a Dictionary of Lists\n",
    "A common way to create a DataFrame is from a dictionary where keys become column labels and values (which should be lists) become column data:"
   ]
  },
  {
   "cell_type": "code",
   "execution_count": null,
   "metadata": {
    "vscode": {
     "languageId": "plaintext"
    }
   },
   "outputs": [],
   "source": [
    "data = {\n",
    "    'Name': ['Tom', 'Nick', 'Julia'],\n",
    "    'Age': [28, 30, 25]\n",
    "}\n",
    "df = pd.DataFrame(data)\n",
    "print(df)\n"
   ]
  },
  {
   "cell_type": "markdown",
   "metadata": {},
   "source": [
    "#### 3. Creating a DataFrame from a List of Dictionaries\n",
    "Each dictionary in the list represents a row in the DataFrame. Keys are column labels, and values are data in the columns:"
   ]
  },
  {
   "cell_type": "code",
   "execution_count": null,
   "metadata": {
    "vscode": {
     "languageId": "plaintext"
    }
   },
   "outputs": [],
   "source": [
    "data = [\n",
    "    {'Name': 'Tom', 'Age': 28},\n",
    "    {'Name': 'Nick', 'Age': 30},\n",
    "    {'Name': 'Julia', 'Age': 25}\n",
    "]\n",
    "df = pd.DataFrame(data)\n",
    "print(df)\n"
   ]
  },
  {
   "cell_type": "markdown",
   "metadata": {},
   "source": [
    "#### 4. Creating a DataFrame from a Series\n",
    "A DataFrame can be constructed from one or more pandas Series. Here’s an example using two Series:"
   ]
  },
  {
   "cell_type": "markdown",
   "metadata": {},
   "source": [
    "\n",
    "![image.png](https://k21academy.com/wp-content/uploads/2021/10/pandas-datastructure-1024x466.png)"
   ]
  },
  {
   "cell_type": "code",
   "execution_count": null,
   "metadata": {
    "vscode": {
     "languageId": "plaintext"
    }
   },
   "outputs": [],
   "source": [
    "series1 = pd.Series([3,2,0,1])\n",
    "series2 = pd.Series([0,3,7,2])\n",
    "df = pd.DataFrame({'Peppers': series1, 'Carrots': series2})\n",
    "print(df)\n"
   ]
  },
  {
   "cell_type": "markdown",
   "metadata": {},
   "source": [
    "#### 5. Creating a DataFrame from NumPy Arrays\n",
    "If you have data in NumPy arrays, you can easily convert it into a DataFrame:"
   ]
  },
  {
   "cell_type": "code",
   "execution_count": null,
   "metadata": {
    "vscode": {
     "languageId": "plaintext"
    }
   },
   "outputs": [],
   "source": [
    "array = np.array([[1, 2, 3], [4, 5, 6], [7, 8, 9]])\n",
    "df = pd.DataFrame(array, columns=['Column1', 'Column2', 'Column3'])\n",
    "print(df)\n"
   ]
  },
  {
   "cell_type": "markdown",
   "metadata": {},
   "source": [
    "#### 6. Creating a DataFrame with Index\n",
    "You can specify the index for the DataFrame, which allows more control over the row labels:"
   ]
  },
  {
   "cell_type": "code",
   "execution_count": null,
   "metadata": {
    "vscode": {
     "languageId": "plaintext"
    }
   },
   "outputs": [],
   "source": [
    "data = {\n",
    "    'Name': ['Tom', 'Nick', 'Julia'],\n",
    "    'Age': [28, 30, 25]\n",
    "}\n",
    "index = ['Person1', 'Person2', 'Person3']\n",
    "df = pd.DataFrame(data, index=index)\n",
    "print(df)\n"
   ]
  },
  {
   "cell_type": "markdown",
   "metadata": {},
   "source": [
    "### Reading Data from CSV Files\n",
    "The `pandas.read_csv()` function is used to read a CSV file into a dataframe. We will use this function to read our dataset and assign it to the variable name `f500`. The `read_csv()` automatically handles reading and parsing most CSV files.\n",
    "\n",
    "We'll Python's `type()` function to inspect the `f500` dataframe."
   ]
  },
  {
   "cell_type": "code",
   "execution_count": null,
   "metadata": {
    "vscode": {
     "languageId": "plaintext"
    }
   },
   "outputs": [],
   "source": [
    "#run this cell\n",
    "\n",
    "f500 = pd.read_csv('data/f500.csv',index_col=0)"
   ]
  },
  {
   "cell_type": "markdown",
   "metadata": {},
   "source": [
    "### DataFrame Properties\n",
    "\n",
    " Pandas features a range of properties and methods that provide insights into the structure and content of the data it holds. \n",
    " Here's a comprehensive overview of some of the most important properties and methods associated with `DataFrames`:"
   ]
  },
  {
   "cell_type": "markdown",
   "metadata": {},
   "source": [
    "To view the first few rows of our dataframe, we can use the `.head()` method. By default, it will return the first five rows of our dataframe. However, it also accepts an optional integer parameter, which specifies the number of rows:"
   ]
  },
  {
   "cell_type": "code",
   "execution_count": null,
   "metadata": {
    "vscode": {
     "languageId": "plaintext"
    }
   },
   "outputs": [],
   "source": [
    "f500.head()"
   ]
  },
  {
   "cell_type": "markdown",
   "metadata": {},
   "source": [
    "Likewise, we can use the `DataFrame.tail()` method to show us the last rows of our dataframe:"
   ]
  },
  {
   "cell_type": "code",
   "execution_count": null,
   "metadata": {
    "vscode": {
     "languageId": "plaintext"
    }
   },
   "outputs": [],
   "source": [
    "f500.tail()"
   ]
  },
  {
   "cell_type": "markdown",
   "metadata": {},
   "source": [
    "\n",
    "The `.shape` property returns a tuple representing the dimensionality of the DataFrame. The first element of the tuple is the number of rows, and the second is the number of columns.\n",
    "\n",
    "Whereas, the `.size` property returns an integer representing the number of elements in the DataFrame, which is the product of the number of rows and columns."
   ]
  },
  {
   "cell_type": "code",
   "execution_count": null,
   "metadata": {
    "vscode": {
     "languageId": "plaintext"
    }
   },
   "outputs": [],
   "source": [
    "print(f500.shape)\n",
    "print(f500.size)"
   ]
  },
  {
   "cell_type": "markdown",
   "metadata": {},
   "source": [
    "Next, we'll learn another method that can help us more quickly investigate this issue - the `Series.describe()` method. This method tells us how many non-null values are contained in the series, along with the mean, minimum, maximum, and other statistics we'll learn about later in this path.\n",
    "\n",
    "Let's look at an example:"
   ]
  },
  {
   "cell_type": "code",
   "execution_count": null,
   "metadata": {
    "vscode": {
     "languageId": "plaintext"
    }
   },
   "outputs": [],
   "source": [
    "f500['assets'].describe()"
   ]
  },
  {
   "cell_type": "markdown",
   "metadata": {},
   "source": [
    "If we use `describe()` on a column that contains non-numeric values, we get some different statistics. Let's look at an example:\n"
   ]
  },
  {
   "cell_type": "code",
   "execution_count": null,
   "metadata": {
    "vscode": {
     "languageId": "plaintext"
    }
   },
   "outputs": [],
   "source": [
    "f500['previous_rank'].describe()"
   ]
  },
  {
   "cell_type": "markdown",
   "metadata": {},
   "source": [
    "The `.columns` property returns an Index object containing column labels. Additionally, the `.values` property returns the numpy representation of the DataFrame data."
   ]
  },
  {
   "cell_type": "code",
   "execution_count": null,
   "metadata": {
    "vscode": {
     "languageId": "plaintext"
    }
   },
   "outputs": [],
   "source": [
    "print(f500.columns), print(f500.values)"
   ]
  },
  {
   "cell_type": "markdown",
   "metadata": {},
   "source": [
    "\n",
    "The `.index` property returns an Index object containing the index labels."
   ]
  },
  {
   "cell_type": "code",
   "execution_count": null,
   "metadata": {
    "vscode": {
     "languageId": "plaintext"
    }
   },
   "outputs": [],
   "source": [
    "f500.index"
   ]
  },
  {
   "cell_type": "markdown",
   "metadata": {},
   "source": [
    "\n",
    "The `.dtypes` property returns a Series with the data type of each column."
   ]
  },
  {
   "cell_type": "code",
   "execution_count": null,
   "metadata": {
    "vscode": {
     "languageId": "plaintext"
    }
   },
   "outputs": [],
   "source": [
    "f500.dtypes"
   ]
  },
  {
   "cell_type": "markdown",
   "metadata": {},
   "source": [
    "### Selection and Indexing of DataFrames\n",
    "\n",
    "Selection and indexing are key operations for data manipulation in pandas, especially with DataFrame objects, which are central to data analysis workflows. In this section, we will go over a comprehensive overview of how these operations can be performed in pandas:"
   ]
  },
  {
   "cell_type": "markdown",
   "metadata": {},
   "source": [
    "#### 1. Selection using `.iloc`\n",
    "The `.iloc` indexer is used for selection by position. It allows you to access a subset of the DataFrame or Series based on integer positions, which is similar to how you would index numpy arrays or Python lists. \n",
    "Some key considerations:\n",
    "- **Indexing:** You can specify row positions and column positions, both of which are based on integer indexes starting from 0.\n",
    "- **Slicing:** Just like Python lists, .iloc supports the standard Python slicing notation.\n",
    "- **Integer List:** You can pass a list or array of integers to select specific rows or columns."
   ]
  },
  {
   "cell_type": "code",
   "execution_count": null,
   "metadata": {
    "vscode": {
     "languageId": "plaintext"
    }
   },
   "outputs": [],
   "source": [
    "import pandas as pd\n",
    "\n",
    "# Example DataFrame\n",
    "df = pd.DataFrame({\n",
    "    'A': range(1, 6),\n",
    "    'B': range(10, 60, 10),\n",
    "    'C': range(100, 600, 100)\n",
    "})\n",
    "# view DataFrame\n",
    "print(df)\n",
    "\n",
    "# Select the second row\n",
    "print(df.iloc[1])"
   ]
  },
  {
   "cell_type": "code",
   "execution_count": null,
   "metadata": {
    "vscode": {
     "languageId": "plaintext"
    }
   },
   "outputs": [],
   "source": [
    "\n",
    "# Select rows from index 1 to 3 and first two columns\n",
    "print(df.iloc[1:4, 0:2])"
   ]
  },
  {
   "cell_type": "code",
   "execution_count": null,
   "metadata": {
    "vscode": {
     "languageId": "plaintext"
    }
   },
   "outputs": [],
   "source": [
    "\n",
    "# Select specific rows using a list of indices\n",
    "print(df.iloc[[0, 2, 4], :])\n"
   ]
  },
  {
   "cell_type": "markdown",
   "metadata": {},
   "source": [
    "#### 2. Selection using `.loc`\n",
    "The `.loc` indexer accesses a group of rows and columns by labels or a boolean array. `.loc` is primarily label based, but it can also be used with a boolean array. Axes in pandas have labels. Hence, we can select data using those labels — unlike in NumPy, where we needed to know the exact index location. \n",
    "\n",
    "```python\n",
    "df.loc[row_label, column_label]\n",
    "```\n",
    "Here are some important aspects:\n",
    "\n",
    "- **Labels:** You can use index labels and column names to select specific rows and columns.\n",
    "- **Slicing:** When slicing, the end label is inclusive, which is different from typical Python slicing.\n",
    "- **Conditional Selection:** You can use conditional statements to filter rows or columns based on their values.\n",
    "- **Setting Values:** It is also used for setting values in specific rows and columns based on labels."
   ]
  },
  {
   "cell_type": "markdown",
   "metadata": {},
   "source": [
    "Let's select a single column by spcifying it label."
   ]
  },
  {
   "cell_type": "code",
   "execution_count": null,
   "metadata": {
    "vscode": {
     "languageId": "plaintext"
    }
   },
   "outputs": [],
   "source": [
    "f500.loc[:,\"rank\"]"
   ]
  },
  {
   "cell_type": "code",
   "execution_count": null,
   "metadata": {
    "vscode": {
     "languageId": "plaintext"
    }
   },
   "outputs": [],
   "source": [
    "# Example DataFrame with custom indices\n",
    "df = pd.DataFrame({\n",
    "    'A': range(1, 6),\n",
    "    'B': range(10, 60, 10),\n",
    "    'C': range(100, 600, 100)\n",
    "}, index=['first', 'second', 'third', 'fourth', 'fifth'])\n",
    "\n",
    "# View the DataFrame\n",
    "print(df)"
   ]
  },
  {
   "cell_type": "code",
   "execution_count": null,
   "metadata": {
    "vscode": {
     "languageId": "plaintext"
    }
   },
   "outputs": [],
   "source": [
    "# Select the row with index label 'c'\n",
    "print(df.loc['third'])"
   ]
  },
  {
   "cell_type": "code",
   "execution_count": null,
   "metadata": {
    "vscode": {
     "languageId": "plaintext"
    }
   },
   "outputs": [],
   "source": [
    "# Select from row 'b' to 'd' and columns 'A' to 'B'\n",
    "print(df.loc['second':'fourth', 'A':'B'])\n",
    "\n",
    "# Conditional selection\n",
    "print(df.loc[df['A'] > 2])"
   ]
  },
  {
   "cell_type": "markdown",
   "metadata": {},
   "source": [
    "Differences Between `.iloc` and `.loc`\n",
    "\n",
    "- **Indexing Type:** .iloc is integer-based, so you use integer indices to select data. .loc is label-based, so you use labels to select data.\n",
    "- **Slicing Inclusivity:** In .iloc, slicing excludes the end index, while in .loc, it includes the end index.\n",
    "- **Data Type:** .iloc strictly works with integers. .loc can work with labels and boolean arrays."
   ]
  },
  {
   "cell_type": "markdown",
   "metadata": {},
   "source": [
    "#### Removing data using `drop`\n",
    "The drop method is used to remove rows or columns by specifying label names and the corresponding axis, or by directly specifying the index or column names. Here are the key aspects:\n",
    "- **Labels:** Specify the labels of the index or columns you want to remove.\n",
    "- **Axis:** Determine if you are dropping rows (axis=0) or columns (axis=1). While you can use integers to refer to the first and second axis, pandas dataframe methods also accept the strings \"index\" and \"columns\" for the axis parameter:\n",
    "\n",
    "![Selection_580.png](data:image/png;base64,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)\n",
    "- **Inplace:** By default, drop does not alter the original DataFrame unless inplace=True is set."
   ]
  },
  {
   "cell_type": "code",
   "execution_count": null,
   "metadata": {
    "vscode": {
     "languageId": "plaintext"
    }
   },
   "outputs": [],
   "source": [
    "import pandas as pd\n",
    "\n",
    "# Create a DataFrame\n",
    "df = pd.DataFrame({\n",
    "    'A': range(1, 5),\n",
    "    'B': range(10, 50, 10),\n",
    "    'C': range(100, 500, 100)\n",
    "})\n",
    "\n",
    "\n",
    "# Drop a row by index\n",
    "df.drop(2, axis=0)"
   ]
  },
  {
   "cell_type": "code",
   "execution_count": null,
   "metadata": {
    "vscode": {
     "languageId": "plaintext"
    }
   },
   "outputs": [],
   "source": [
    "# Drop multiple columns\n",
    "df.drop(['A', 'C'], axis=1)"
   ]
  },
  {
   "cell_type": "code",
   "execution_count": null,
   "metadata": {
    "vscode": {
     "languageId": "plaintext"
    }
   },
   "outputs": [],
   "source": [
    "# Drop a column without replacement\n",
    "df.drop('C', axis=1, inplace=False)\n",
    "df"
   ]
  },
  {
   "cell_type": "markdown",
   "metadata": {},
   "source": [
    "#### Sorting data using `.sort_values`\n",
    "The sort_values method sorts a DataFrame by the values of one or more columns. It is highly customizable with several parameters to fine-tune the sort order. Here are the main features:\n",
    "\n",
    "- **by:** Specify the column or columns to sort by.\n",
    "axis: Choose to sort by index (axis=0) or by columns (axis=1).\n",
    "- **ascending:** A boolean or list of booleans, indicating sorting ascending (True) or descending (False).\n",
    "- **inplace:** Whether to modify the original DataFrame or return a new one."
   ]
  },
  {
   "cell_type": "code",
   "execution_count": null,
   "metadata": {
    "vscode": {
     "languageId": "plaintext"
    }
   },
   "outputs": [],
   "source": [
    "# Create a DataFrame\n",
    "df = pd.DataFrame({\n",
    "    'Name': ['John', 'Anna', 'Zoe', 'Linda'],\n",
    "    'Age': [28, 22, 33, 29],\n",
    "    'Salary': [50000, 54000, 48000, 47000]\n",
    "})\n",
    "\n",
    "# Sort by 'Name' in ascending order\n",
    "df.sort_values(by='Name')\n"
   ]
  },
  {
   "cell_type": "code",
   "execution_count": null,
   "metadata": {
    "vscode": {
     "languageId": "plaintext"
    }
   },
   "outputs": [],
   "source": [
    "# Sort by 'Age' in descending order\n",
    "df.sort_values(by='Age', ascending=False)"
   ]
  },
  {
   "cell_type": "code",
   "execution_count": null,
   "metadata": {
    "vscode": {
     "languageId": "plaintext"
    }
   },
   "outputs": [],
   "source": [
    "# Sort by multiple columns\n",
    "df.sort_values(by=['Salary', 'Age'], ascending=[True, False])"
   ]
  }
 ],
 "metadata": {
  "language_info": {
   "name": "python"
  }
 },
 "nbformat": 4,
 "nbformat_minor": 2
}
